{
 "cells": [
  {
   "cell_type": "code",
   "execution_count": 2,
   "metadata": {},
   "outputs": [
    {
     "name": "stderr",
     "output_type": "stream",
     "text": [
      "Matplotlib is building the font cache; this may take a moment.\n"
     ]
    }
   ],
   "source": [
    "from scipy import stats\n",
    "import numpy as np\n",
    "import matplotlib.pyplot as plt"
   ]
  },
  {
   "cell_type": "markdown",
   "metadata": {},
   "source": [
    "# Разбираем https://www.evanmiller.org/ab-testing/t-test.html"
   ]
  },
  {
   "cell_type": "markdown",
   "metadata": {},
   "source": [
    "http://datalearning.ru/index.php/textbook?cid=1&mid=3&topic=1\n",
    "\n",
    "Гипотеза о равенстве математических ожиданий при известных дисперсиях (two-sample z-test).\n",
    "http://datalearning.ru/index.php/textbook?cid=1&mid=3&topic=2\n",
    "\n",
    "https://ru.wikipedia.org/wiki/T-%D0%BA%D1%80%D0%B8%D1%82%D0%B5%D1%80%D0%B8%D0%B9_%D0%A1%D1%82%D1%8C%D1%8E%D0%B4%D0%B5%D0%BD%D1%82%D0%B0#%D0%94%D0%B2%D1%83%D1%85%D0%B2%D1%8B%D0%B1%D0%BE%D1%80%D0%BE%D1%87%D0%BD%D1%8B%D0%B9_t-%D0%BA%D1%80%D0%B8%D1%82%D0%B5%D1%80%D0%B8%D0%B9_%D0%B4%D0%BB%D1%8F_%D0%B7%D0%B0%D0%B2%D0%B8%D1%81%D0%B8%D0%BC%D1%8B%D1%85_%D0%B2%D1%8B%D0%B1%D0%BE%D1%80%D0%BE%D0%BA"
   ]
  },
  {
   "cell_type": "markdown",
   "metadata": {},
   "source": [
    "Пусть имеются две независимые выборки A и B нормально распределённых случайных величин. Необходимо проверить по выборочным данным нулевую гипотезу равенства математических ожиданий этих случайных величин H_0 : M_1 = M_2"
   ]
  },
  {
   "cell_type": "code",
   "execution_count": 3,
   "metadata": {},
   "outputs": [],
   "source": [
    "A = np.array([64.2,28.4,85.3,83.1,13.4,56.8,44.2,90])\n",
    "B = np.array([45,29.5,32.3,49.3,18.3,34.2,43.9,13.8,27.4,43.4])"
   ]
  },
  {
   "cell_type": "markdown",
   "metadata": {},
   "source": [
    "Зададим уровень значимости (https://radioprog.ru/post/926) . Грубо говоря, вероятность ошибки принятия нулевой гипотезы (это называют еще ошибка первого рода)\n",
    "\n",
    "Так как мы будем рассматривать в этом примере двухсторонную гипотезу, то нужно будет в дальнейшем заданное значение поделить на 2. (https://bstudy.net/706619/ekonomika/metod_proverki_statisticheskih_gipotez)\n",
    "Альтернативная гипотеза у нас это H1: M_1!=M_2. (если бы рассматривали > или < то делить не надо было бы)"
   ]
  },
  {
   "cell_type": "code",
   "execution_count": 4,
   "metadata": {},
   "outputs": [],
   "source": [
    "alpha = 0.05"
   ]
  },
  {
   "cell_type": "markdown",
   "metadata": {},
   "source": [
    "Дальше нам надо посчитать значение критерия. Сделаем это двумя способами: вручную(для наглядности) и с помощью библиотеки"
   ]
  },
  {
   "cell_type": "code",
   "execution_count": 5,
   "metadata": {},
   "outputs": [
    {
     "name": "stdout",
     "output_type": "stream",
     "text": [
      "2.3102761451054765\n"
     ]
    }
   ],
   "source": [
    "#вручную\n",
    "mean_A = A.mean()\n",
    "mean_B = B.mean()\n",
    "\n",
    "size_A = A.shape[0]\n",
    "size_B = B.shape[0]\n",
    "\n",
    "S_2_A = A.var(ddof=1)\n",
    "S_2_B = B.var(ddof=1)\n",
    "\n",
    "t = (mean_A-mean_B)/np.sqrt((S_2_A/size_A+S_2_B/size_B))\n",
    "print(t)"
   ]
  },
  {
   "cell_type": "code",
   "execution_count": 6,
   "metadata": {},
   "outputs": [],
   "source": [
    "#степень свободы\n",
    "df = (S_2_A/size_A+S_2_B/size_B)**2 / ((S_2_A/size_A)**2/(size_A-1)+(S_2_B/size_B)**2/(size_B-1))"
   ]
  },
  {
   "cell_type": "code",
   "execution_count": 7,
   "metadata": {},
   "outputs": [],
   "source": [
    "# наша посчитанная статистика t имеет распределение стьюдента со степерью совободы df \n",
    "# (степень свободы один из параметров расределения,на вики есть об этом)\n",
    "pvalue = 1 - (stats.t.cdf(t,df) - stats.t.cdf(-t,df))"
   ]
  },
  {
   "cell_type": "code",
   "execution_count": 8,
   "metadata": {},
   "outputs": [
    {
     "name": "stdout",
     "output_type": "stream",
     "text": [
      " 2.3102761451054765 0.04621393426531888\n"
     ]
    }
   ],
   "source": [
    "# с помощью библиотеки получаем то же\n",
    "statistic,pvalue = stats.ttest_ind(A, B,alternative='two-sided',equal_var=False)\n",
    "print('',statistic,pvalue)"
   ]
  },
  {
   "cell_type": "code",
   "execution_count": 9,
   "metadata": {},
   "outputs": [
    {
     "name": "stdout",
     "output_type": "stream",
     "text": [
      "Гипотезу отвергаем\n"
     ]
    }
   ],
   "source": [
    "# итоговый результат\n",
    "if pvalue/2<alpha:\n",
    "    print('Гипотезу отвергаем')\n",
    "else:\n",
    "    print('Гипотезу принимаем')\n",
    "    "
   ]
  },
  {
   "cell_type": "code",
   "execution_count": 10,
   "metadata": {},
   "outputs": [],
   "source": [
    "d = abs(mean_A-mean_B)"
   ]
  },
  {
   "cell_type": "code",
   "execution_count": 11,
   "metadata": {},
   "outputs": [
    {
     "data": {
      "text/plain": [
       "[<matplotlib.lines.Line2D at 0x2015ceeec80>]"
      ]
     },
     "execution_count": 11,
     "metadata": {},
     "output_type": "execute_result"
    },
    {
     "data": {
      "image/png": "[encoded data removed]",
      "text/plain": [
       "<Figure size 432x288 with 1 Axes>"
      ]
     },
     "metadata": {
      "needs_background": "light"
     },
     "output_type": "display_data"
    }
   ],
   "source": [
    "x = np.linspace(mean_A-np.sqrt(S_2_A)*4,mean_A+np.sqrt(S_2_A)*4,200)\n",
    "\n",
    "pdf1 = stats.norm.pdf(x,mean_A,np.sqrt(S_2_A))\n",
    "pdf2 = stats.norm.pdf(x,mean_B,np.sqrt(S_2_B))\n",
    "\n",
    "plt.plot(x,pdf1 , color = 'red')\n",
    "plt.plot(x,pdf2 , color = 'blue')"
   ]
  },
  {
   "cell_type": "code",
   "execution_count": null,
   "metadata": {},
   "outputs": [],
   "source": []
  }
 ],
 "metadata": {
  "kernelspec": {
   "display_name": "Python 3",
   "language": "python",
   "name": "python3"
  },
  "language_info": {
   "codemirror_mode": {
    "name": "ipython",
    "version": 3
   },
   "file_extension": ".py",
   "mimetype": "text/x-python",
   "name": "python",
   "nbconvert_exporter": "python",
   "pygments_lexer": "ipython3",
   "version": "3.10.2"
  }
 },
 "nbformat": 4,
 "nbformat_minor": 4
}
